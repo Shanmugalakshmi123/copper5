{
 "cells": [
  {
   "cell_type": "code",
   "execution_count": 1,
   "metadata": {},
   "outputs": [
    {
     "name": "stderr",
     "output_type": "stream",
     "text": [
      "C:\\Users\\shamr\\AppData\\Local\\Temp\\ipykernel_10840\\631675990.py:17: DtypeWarning: Columns (2) have mixed types. Specify dtype option on import or set low_memory=False.\n",
      "  df=pandas.read_csv(new_url)\n"
     ]
    }
   ],
   "source": [
    "import re\n",
    "import pandas\n",
    "url=\"https://docs.google.com/spreadsheets/d/18eR6DBe5TMWU9FnIewaGtsepDbV4BOyr/edit#gid=462557918\"\n",
    "def convert_google_sheet_url(url):\n",
    "    # Regular expression to match and capture the necessary part of the URL\n",
    "    pattern = r'https://docs\\.google\\.com/spreadsheets/d/([a-zA-Z0-9-_]+)(/edit#gid=(\\d+)|/edit.*)?'\n",
    "\n",
    "    # Replace function to construct the new URL for CSV export\n",
    "    # If gid is present in the URL, it includes it in the export URL, otherwise, it's omitted\n",
    "    replacement = lambda m: f'https://docs.google.com/spreadsheets/d/{m.group(1)}/export?' + (f'gid={m.group(3)}&' if m.group(3) else '') + 'format=csv'\n",
    "\n",
    "    # Replace using regex\n",
    "    new_url = re.sub(pattern, replacement, url)\n",
    "\n",
    "    return new_url\n",
    "new_url=convert_google_sheet_url(url)\n",
    "df=pandas.read_csv(new_url)\n",
    "#df"
   ]
  },
  {
   "cell_type": "code",
   "execution_count": null,
   "metadata": {},
   "outputs": [],
   "source": [
    "df.to_csv(\"test2.csv\")"
   ]
  },
  {
   "cell_type": "code",
   "execution_count": 2,
   "metadata": {},
   "outputs": [
    {
     "name": "stdout",
     "output_type": "stream",
     "text": [
      "<class 'pandas.core.frame.DataFrame'>\n",
      "RangeIndex: 181673 entries, 0 to 181672\n",
      "Data columns (total 14 columns):\n",
      " #   Column         Non-Null Count   Dtype  \n",
      "---  ------         --------------   -----  \n",
      " 0   id             181671 non-null  object \n",
      " 1   item_date      181672 non-null  float64\n",
      " 2   quantity tons  181673 non-null  object \n",
      " 3   customer       181672 non-null  float64\n",
      " 4   country        181645 non-null  float64\n",
      " 5   status         181671 non-null  object \n",
      " 6   item type      181673 non-null  object \n",
      " 7   application    181649 non-null  float64\n",
      " 8   thickness      181672 non-null  float64\n",
      " 9   width          181673 non-null  float64\n",
      " 10  material_ref   103754 non-null  object \n",
      " 11  product_ref    181673 non-null  int64  \n",
      " 12  delivery date  181672 non-null  float64\n",
      " 13  selling_price  181672 non-null  float64\n",
      "dtypes: float64(8), int64(1), object(5)\n",
      "memory usage: 19.4+ MB\n"
     ]
    }
   ],
   "source": [
    "df.info()"
   ]
  },
  {
   "cell_type": "code",
   "execution_count": 3,
   "metadata": {},
   "outputs": [
    {
     "name": "stdout",
     "output_type": "stream",
     "text": [
      "<class 'pandas.core.frame.DataFrame'>\n",
      "RangeIndex: 181673 entries, 0 to 181672\n",
      "Data columns (total 13 columns):\n",
      " #   Column         Non-Null Count   Dtype  \n",
      "---  ------         --------------   -----  \n",
      " 0   item_date      181672 non-null  float64\n",
      " 1   quantity tons  181673 non-null  object \n",
      " 2   customer       181672 non-null  float64\n",
      " 3   country        181645 non-null  float64\n",
      " 4   status         181671 non-null  object \n",
      " 5   item type      181673 non-null  object \n",
      " 6   application    181649 non-null  float64\n",
      " 7   thickness      181672 non-null  float64\n",
      " 8   width          181673 non-null  float64\n",
      " 9   material_ref   103754 non-null  object \n",
      " 10  product_ref    181673 non-null  int64  \n",
      " 11  delivery date  181672 non-null  float64\n",
      " 12  selling_price  181672 non-null  float64\n",
      "dtypes: float64(8), int64(1), object(4)\n",
      "memory usage: 18.0+ MB\n"
     ]
    }
   ],
   "source": [
    "df2=df.drop('id',axis=1)\n",
    "df2.info()"
   ]
  },
  {
   "cell_type": "code",
   "execution_count": 4,
   "metadata": {},
   "outputs": [
    {
     "name": "stdout",
     "output_type": "stream",
     "text": [
      "<class 'pandas.core.frame.DataFrame'>\n",
      "Index: 181649 entries, 0 to 181672\n",
      "Data columns (total 13 columns):\n",
      " #   Column         Non-Null Count   Dtype  \n",
      "---  ------         --------------   -----  \n",
      " 0   item_date      181648 non-null  float64\n",
      " 1   quantity tons  181649 non-null  object \n",
      " 2   customer       181648 non-null  float64\n",
      " 3   country        181645 non-null  float64\n",
      " 4   status         181647 non-null  object \n",
      " 5   item type      181649 non-null  object \n",
      " 6   application    181649 non-null  float64\n",
      " 7   thickness      181648 non-null  float64\n",
      " 8   width          181649 non-null  float64\n",
      " 9   material_ref   103754 non-null  object \n",
      " 10  product_ref    181649 non-null  int64  \n",
      " 11  delivery date  181648 non-null  float64\n",
      " 12  selling_price  181648 non-null  float64\n",
      "dtypes: float64(8), int64(1), object(4)\n",
      "memory usage: 19.4+ MB\n"
     ]
    }
   ],
   "source": [
    "df2=df2[df2['application'].notnull()]\n",
    "df2.info()"
   ]
  },
  {
   "cell_type": "code",
   "execution_count": 5,
   "metadata": {},
   "outputs": [
    {
     "name": "stdout",
     "output_type": "stream",
     "text": [
      "<class 'pandas.core.frame.DataFrame'>\n",
      "Index: 181649 entries, 0 to 181672\n",
      "Data columns (total 12 columns):\n",
      " #   Column         Non-Null Count   Dtype  \n",
      "---  ------         --------------   -----  \n",
      " 0   item_date      181648 non-null  float64\n",
      " 1   quantity tons  181649 non-null  object \n",
      " 2   customer       181648 non-null  float64\n",
      " 3   country        181645 non-null  float64\n",
      " 4   status         181647 non-null  object \n",
      " 5   item type      181649 non-null  object \n",
      " 6   application    181649 non-null  float64\n",
      " 7   thickness      181648 non-null  float64\n",
      " 8   width          181649 non-null  float64\n",
      " 9   product_ref    181649 non-null  int64  \n",
      " 10  delivery date  181648 non-null  float64\n",
      " 11  selling_price  181648 non-null  float64\n",
      "dtypes: float64(8), int64(1), object(3)\n",
      "memory usage: 18.0+ MB\n"
     ]
    }
   ],
   "source": [
    "df2=df2.drop('material_ref',axis=1)\n",
    "df2.info()"
   ]
  },
  {
   "cell_type": "code",
   "execution_count": null,
   "metadata": {},
   "outputs": [],
   "source": []
  },
  {
   "cell_type": "code",
   "execution_count": 6,
   "metadata": {},
   "outputs": [
    {
     "name": "stdout",
     "output_type": "stream",
     "text": [
      "<class 'pandas.core.frame.DataFrame'>\n",
      "RangeIndex: 181673 entries, 0 to 181672\n",
      "Data columns (total 13 columns):\n",
      " #   Column         Non-Null Count   Dtype  \n",
      "---  ------         --------------   -----  \n",
      " 0   item_date      181672 non-null  float64\n",
      " 1   quantity tons  181673 non-null  object \n",
      " 2   customer       181672 non-null  float64\n",
      " 3   country        181645 non-null  float64\n",
      " 4   status         181671 non-null  object \n",
      " 5   item type      181673 non-null  object \n",
      " 6   application    181649 non-null  float64\n",
      " 7   thickness      181672 non-null  float64\n",
      " 8   width          181673 non-null  float64\n",
      " 9   material_ref   103754 non-null  object \n",
      " 10  product_ref    181673 non-null  int64  \n",
      " 11  delivery date  181672 non-null  float64\n",
      " 12  selling_price  181672 non-null  float64\n",
      "dtypes: float64(8), int64(1), object(4)\n",
      "memory usage: 18.0+ MB\n"
     ]
    }
   ],
   "source": [
    "df2=df.drop('id',axis=1)\n",
    "df2.info()"
   ]
  },
  {
   "cell_type": "code",
   "execution_count": 7,
   "metadata": {},
   "outputs": [
    {
     "name": "stdout",
     "output_type": "stream",
     "text": [
      "<class 'pandas.core.frame.DataFrame'>\n",
      "Index: 181672 entries, 0 to 181672\n",
      "Data columns (total 13 columns):\n",
      " #   Column         Non-Null Count   Dtype  \n",
      "---  ------         --------------   -----  \n",
      " 0   item_date      181671 non-null  float64\n",
      " 1   quantity tons  181672 non-null  object \n",
      " 2   customer       181671 non-null  float64\n",
      " 3   country        181644 non-null  float64\n",
      " 4   status         181670 non-null  object \n",
      " 5   item type      181672 non-null  object \n",
      " 6   application    181648 non-null  float64\n",
      " 7   thickness      181671 non-null  float64\n",
      " 8   width          181672 non-null  float64\n",
      " 9   material_ref   103754 non-null  object \n",
      " 10  product_ref    181672 non-null  int64  \n",
      " 11  delivery date  181672 non-null  float64\n",
      " 12  selling_price  181671 non-null  float64\n",
      "dtypes: float64(8), int64(1), object(4)\n",
      "memory usage: 19.4+ MB\n"
     ]
    }
   ],
   "source": [
    "df2=df2[df2['delivery date'].notnull()]\n",
    "df2.info()"
   ]
  },
  {
   "cell_type": "code",
   "execution_count": 8,
   "metadata": {},
   "outputs": [
    {
     "name": "stdout",
     "output_type": "stream",
     "text": [
      "<class 'pandas.core.frame.DataFrame'>\n",
      "Index: 181672 entries, 0 to 181672\n",
      "Data columns (total 12 columns):\n",
      " #   Column         Non-Null Count   Dtype  \n",
      "---  ------         --------------   -----  \n",
      " 0   item_date      181671 non-null  float64\n",
      " 1   quantity tons  181672 non-null  object \n",
      " 2   customer       181671 non-null  float64\n",
      " 3   country        181644 non-null  float64\n",
      " 4   status         181670 non-null  object \n",
      " 5   item type      181672 non-null  object \n",
      " 6   application    181648 non-null  float64\n",
      " 7   thickness      181671 non-null  float64\n",
      " 8   width          181672 non-null  float64\n",
      " 9   product_ref    181672 non-null  int64  \n",
      " 10  delivery date  181672 non-null  float64\n",
      " 11  selling_price  181671 non-null  float64\n",
      "dtypes: float64(8), int64(1), object(3)\n",
      "memory usage: 18.0+ MB\n"
     ]
    }
   ],
   "source": [
    "df2=df2.drop('material_ref',axis=1)\n",
    "df2.info()"
   ]
  },
  {
   "cell_type": "code",
   "execution_count": 9,
   "metadata": {},
   "outputs": [
    {
     "name": "stdout",
     "output_type": "stream",
     "text": [
      "<class 'pandas.core.frame.DataFrame'>\n",
      "Index: 181672 entries, 0 to 181672\n",
      "Data columns (total 12 columns):\n",
      " #   Column         Non-Null Count   Dtype  \n",
      "---  ------         --------------   -----  \n",
      " 0   item_date      181671 non-null  float64\n",
      " 1   quantity tons  181672 non-null  object \n",
      " 2   customer       181671 non-null  float64\n",
      " 3   country        181644 non-null  float64\n",
      " 4   status         181670 non-null  object \n",
      " 5   item type      181672 non-null  object \n",
      " 6   application    181648 non-null  float64\n",
      " 7   thickness      181671 non-null  float64\n",
      " 8   width          181672 non-null  float64\n",
      " 9   product_ref    181672 non-null  int64  \n",
      " 10  delivery date  181672 non-null  float64\n",
      " 11  selling_price  181671 non-null  float64\n",
      "dtypes: float64(8), int64(1), object(3)\n",
      "memory usage: 18.0+ MB\n"
     ]
    }
   ],
   "source": [
    "df2.info()"
   ]
  },
  {
   "cell_type": "code",
   "execution_count": 10,
   "metadata": {},
   "outputs": [
    {
     "name": "stdout",
     "output_type": "stream",
     "text": [
      "<class 'pandas.core.frame.DataFrame'>\n",
      "Index: 181671 entries, 0 to 181672\n",
      "Data columns (total 12 columns):\n",
      " #   Column         Non-Null Count   Dtype  \n",
      "---  ------         --------------   -----  \n",
      " 0   item_date      181671 non-null  float64\n",
      " 1   quantity tons  181671 non-null  object \n",
      " 2   customer       181670 non-null  float64\n",
      " 3   country        181643 non-null  float64\n",
      " 4   status         181669 non-null  object \n",
      " 5   item type      181671 non-null  object \n",
      " 6   application    181647 non-null  float64\n",
      " 7   thickness      181670 non-null  float64\n",
      " 8   width          181671 non-null  float64\n",
      " 9   product_ref    181671 non-null  int64  \n",
      " 10  delivery date  181671 non-null  float64\n",
      " 11  selling_price  181670 non-null  float64\n",
      "dtypes: float64(8), int64(1), object(3)\n",
      "memory usage: 18.0+ MB\n"
     ]
    }
   ],
   "source": [
    "df2=df2[df2['item_date'].notnull()]\n",
    "df2.info()"
   ]
  },
  {
   "cell_type": "code",
   "execution_count": 11,
   "metadata": {},
   "outputs": [
    {
     "name": "stdout",
     "output_type": "stream",
     "text": [
      "<class 'pandas.core.frame.DataFrame'>\n",
      "Index: 181643 entries, 0 to 181672\n",
      "Data columns (total 12 columns):\n",
      " #   Column         Non-Null Count   Dtype  \n",
      "---  ------         --------------   -----  \n",
      " 0   item_date      181643 non-null  float64\n",
      " 1   quantity tons  181643 non-null  object \n",
      " 2   customer       181642 non-null  float64\n",
      " 3   country        181643 non-null  float64\n",
      " 4   status         181641 non-null  object \n",
      " 5   item type      181643 non-null  object \n",
      " 6   application    181643 non-null  float64\n",
      " 7   thickness      181642 non-null  float64\n",
      " 8   width          181643 non-null  float64\n",
      " 9   product_ref    181643 non-null  int64  \n",
      " 10  delivery date  181643 non-null  float64\n",
      " 11  selling_price  181642 non-null  float64\n",
      "dtypes: float64(8), int64(1), object(3)\n",
      "memory usage: 18.0+ MB\n"
     ]
    }
   ],
   "source": [
    "df2=df2[df2['country'].notnull()]\n",
    "df2.info()"
   ]
  },
  {
   "cell_type": "code",
   "execution_count": 12,
   "metadata": {},
   "outputs": [
    {
     "name": "stdout",
     "output_type": "stream",
     "text": [
      "<class 'pandas.core.frame.DataFrame'>\n",
      "Index: 181641 entries, 0 to 181672\n",
      "Data columns (total 12 columns):\n",
      " #   Column         Non-Null Count   Dtype  \n",
      "---  ------         --------------   -----  \n",
      " 0   item_date      181641 non-null  float64\n",
      " 1   quantity tons  181641 non-null  object \n",
      " 2   customer       181640 non-null  float64\n",
      " 3   country        181641 non-null  float64\n",
      " 4   status         181641 non-null  object \n",
      " 5   item type      181641 non-null  object \n",
      " 6   application    181641 non-null  float64\n",
      " 7   thickness      181640 non-null  float64\n",
      " 8   width          181641 non-null  float64\n",
      " 9   product_ref    181641 non-null  int64  \n",
      " 10  delivery date  181641 non-null  float64\n",
      " 11  selling_price  181640 non-null  float64\n",
      "dtypes: float64(8), int64(1), object(3)\n",
      "memory usage: 18.0+ MB\n"
     ]
    }
   ],
   "source": [
    "df2=df2[df2['status'].notnull()]\n",
    "df2.info()"
   ]
  },
  {
   "cell_type": "code",
   "execution_count": 13,
   "metadata": {},
   "outputs": [
    {
     "name": "stdout",
     "output_type": "stream",
     "text": [
      "<class 'pandas.core.frame.DataFrame'>\n",
      "Index: 181640 entries, 0 to 181672\n",
      "Data columns (total 12 columns):\n",
      " #   Column         Non-Null Count   Dtype  \n",
      "---  ------         --------------   -----  \n",
      " 0   item_date      181640 non-null  float64\n",
      " 1   quantity tons  181640 non-null  object \n",
      " 2   customer       181640 non-null  float64\n",
      " 3   country        181640 non-null  float64\n",
      " 4   status         181640 non-null  object \n",
      " 5   item type      181640 non-null  object \n",
      " 6   application    181640 non-null  float64\n",
      " 7   thickness      181639 non-null  float64\n",
      " 8   width          181640 non-null  float64\n",
      " 9   product_ref    181640 non-null  int64  \n",
      " 10  delivery date  181640 non-null  float64\n",
      " 11  selling_price  181639 non-null  float64\n",
      "dtypes: float64(8), int64(1), object(3)\n",
      "memory usage: 18.0+ MB\n"
     ]
    }
   ],
   "source": [
    "df2=df2[df2['customer'].notnull()]\n",
    "df2.info()"
   ]
  },
  {
   "cell_type": "code",
   "execution_count": 14,
   "metadata": {},
   "outputs": [
    {
     "name": "stdout",
     "output_type": "stream",
     "text": [
      "<class 'pandas.core.frame.DataFrame'>\n",
      "Index: 181639 entries, 0 to 181672\n",
      "Data columns (total 12 columns):\n",
      " #   Column         Non-Null Count   Dtype  \n",
      "---  ------         --------------   -----  \n",
      " 0   item_date      181639 non-null  float64\n",
      " 1   quantity tons  181639 non-null  object \n",
      " 2   customer       181639 non-null  float64\n",
      " 3   country        181639 non-null  float64\n",
      " 4   status         181639 non-null  object \n",
      " 5   item type      181639 non-null  object \n",
      " 6   application    181639 non-null  float64\n",
      " 7   thickness      181639 non-null  float64\n",
      " 8   width          181639 non-null  float64\n",
      " 9   product_ref    181639 non-null  int64  \n",
      " 10  delivery date  181639 non-null  float64\n",
      " 11  selling_price  181638 non-null  float64\n",
      "dtypes: float64(8), int64(1), object(3)\n",
      "memory usage: 18.0+ MB\n"
     ]
    }
   ],
   "source": [
    "df2=df2[df2['thickness'].notnull()]\n",
    "df2.info()"
   ]
  },
  {
   "cell_type": "code",
   "execution_count": 15,
   "metadata": {},
   "outputs": [
    {
     "name": "stdout",
     "output_type": "stream",
     "text": [
      "<class 'pandas.core.frame.DataFrame'>\n",
      "Index: 181638 entries, 0 to 181672\n",
      "Data columns (total 12 columns):\n",
      " #   Column         Non-Null Count   Dtype  \n",
      "---  ------         --------------   -----  \n",
      " 0   item_date      181638 non-null  float64\n",
      " 1   quantity tons  181638 non-null  object \n",
      " 2   customer       181638 non-null  float64\n",
      " 3   country        181638 non-null  float64\n",
      " 4   status         181638 non-null  object \n",
      " 5   item type      181638 non-null  object \n",
      " 6   application    181638 non-null  float64\n",
      " 7   thickness      181638 non-null  float64\n",
      " 8   width          181638 non-null  float64\n",
      " 9   product_ref    181638 non-null  int64  \n",
      " 10  delivery date  181638 non-null  float64\n",
      " 11  selling_price  181638 non-null  float64\n",
      "dtypes: float64(8), int64(1), object(3)\n",
      "memory usage: 18.0+ MB\n"
     ]
    }
   ],
   "source": [
    "df2=df2[df2['selling_price'].notnull()]\n",
    "df2.info()"
   ]
  },
  {
   "cell_type": "code",
   "execution_count": 16,
   "metadata": {},
   "outputs": [
    {
     "data": {
      "text/plain": [
       "<Axes: >"
      ]
     },
     "execution_count": 16,
     "metadata": {},
     "output_type": "execute_result"
    },
    {
     "data": {
      "image/png": "[encoded data removed]",
      "text/plain": [
       "<Figure size 640x480 with 1 Axes>"
      ]
     },
     "metadata": {},
     "output_type": "display_data"
    }
   ],
   "source": [
    "import numpy as np\n",
    "import matplotlib.pyplot as plt\n",
    "import seaborn as sns\n",
    "#sns.boxplot(x='thickness',data=df2)\n",
    "#plt.hist(x=df2['thickness'],bins=20)\n",
    "#plt.show()\n",
    "df2['selling_price'].plot(kind='box')\n",
    "#df3=df2.pivot_table(index='thickness',index>=0.0)\n",
    "#plt.boxplot(x='selling_price',data=df2)"
   ]
  },
  {
   "cell_type": "code",
   "execution_count": 17,
   "metadata": {},
   "outputs": [],
   "source": [
    "df3=df2[df2['selling_price']<100000000]"
   ]
  },
  {
   "cell_type": "code",
   "execution_count": 18,
   "metadata": {},
   "outputs": [
    {
     "data": {
      "text/plain": [
       "{'whiskers': [<matplotlib.lines.Line2D at 0x208d4569a30>,\n",
       "  <matplotlib.lines.Line2D at 0x208d4569ca0>],\n",
       " 'caps': [<matplotlib.lines.Line2D at 0x208d4569f10>,\n",
       "  <matplotlib.lines.Line2D at 0x208d456a210>],\n",
       " 'boxes': [<matplotlib.lines.Line2D at 0x208d4569820>],\n",
       " 'medians': [<matplotlib.lines.Line2D at 0x208d456a510>],\n",
       " 'fliers': [<matplotlib.lines.Line2D at 0x208d456a810>],\n",
       " 'means': []}"
      ]
     },
     "execution_count": 18,
     "metadata": {},
     "output_type": "execute_result"
    },
    {
     "data": {
      "image/png": "[encoded data removed]",
      "text/plain": [
       "<Figure size 640x480 with 1 Axes>"
      ]
     },
     "metadata": {},
     "output_type": "display_data"
    }
   ],
   "source": [
    "plt.boxplot(x='selling_price',data=df3)"
   ]
  },
  {
   "cell_type": "code",
   "execution_count": 19,
   "metadata": {},
   "outputs": [],
   "source": [
    "df4=df3[df3['selling_price']<70000]"
   ]
  },
  {
   "cell_type": "code",
   "execution_count": 20,
   "metadata": {},
   "outputs": [
    {
     "data": {
      "text/plain": [
       "{'whiskers': [<matplotlib.lines.Line2D at 0x208d45b7cb0>,\n",
       "  <matplotlib.lines.Line2D at 0x208d45b7fb0>],\n",
       " 'caps': [<matplotlib.lines.Line2D at 0x208d48d8320>,\n",
       "  <matplotlib.lines.Line2D at 0x208d48d8620>],\n",
       " 'boxes': [<matplotlib.lines.Line2D at 0x208d45b7a40>],\n",
       " 'medians': [<matplotlib.lines.Line2D at 0x208d48d88f0>],\n",
       " 'fliers': [<matplotlib.lines.Line2D at 0x208d48d8c20>],\n",
       " 'means': []}"
      ]
     },
     "execution_count": 20,
     "metadata": {},
     "output_type": "execute_result"
    },
    {
     "data": {
      "image/png": "[encoded data removed]",
      "text/plain": [
       "<Figure size 640x480 with 1 Axes>"
      ]
     },
     "metadata": {},
     "output_type": "display_data"
    }
   ],
   "source": [
    "plt.boxplot(x='selling_price',data=df4)"
   ]
  },
  {
   "cell_type": "markdown",
   "metadata": {},
   "source": [
    "#Linear Regression\n"
   ]
  },
  {
   "cell_type": "markdown",
   "metadata": {},
   "source": []
  },
  {
   "cell_type": "code",
   "execution_count": 39,
   "metadata": {},
   "outputs": [],
   "source": [
    "import pandas as pd\n",
    "df5=df4[df4['status']==\"Won\"]\n",
    "df6=df4[df4['status']==\"Lost\"]\n",
    "df7=pd.concat([df5,df6])"
   ]
  },
  {
   "cell_type": "code",
   "execution_count": 40,
   "metadata": {},
   "outputs": [
    {
     "data": {
      "text/html": [
       "<div>\n",
       "<style scoped>\n",
       "    .dataframe tbody tr th:only-of-type {\n",
       "        vertical-align: middle;\n",
       "    }\n",
       "\n",
       "    .dataframe tbody tr th {\n",
       "        vertical-align: top;\n",
       "    }\n",
       "\n",
       "    .dataframe thead th {\n",
       "        text-align: right;\n",
       "    }\n",
       "</style>\n",
       "<table border=\"1\" class=\"dataframe\">\n",
       "  <thead>\n",
       "    <tr style=\"text-align: right;\">\n",
       "      <th></th>\n",
       "      <th>status</th>\n",
       "    </tr>\n",
       "  </thead>\n",
       "  <tbody>\n",
       "    <tr>\n",
       "      <th>0</th>\n",
       "      <td>Won</td>\n",
       "    </tr>\n",
       "    <tr>\n",
       "      <th>1</th>\n",
       "      <td>Won</td>\n",
       "    </tr>\n",
       "    <tr>\n",
       "      <th>2</th>\n",
       "      <td>Won</td>\n",
       "    </tr>\n",
       "    <tr>\n",
       "      <th>3</th>\n",
       "      <td>Won</td>\n",
       "    </tr>\n",
       "    <tr>\n",
       "      <th>4</th>\n",
       "      <td>Won</td>\n",
       "    </tr>\n",
       "    <tr>\n",
       "      <th>...</th>\n",
       "      <td>...</td>\n",
       "    </tr>\n",
       "    <tr>\n",
       "      <th>181527</th>\n",
       "      <td>Lost</td>\n",
       "    </tr>\n",
       "    <tr>\n",
       "      <th>181529</th>\n",
       "      <td>Lost</td>\n",
       "    </tr>\n",
       "    <tr>\n",
       "      <th>181531</th>\n",
       "      <td>Lost</td>\n",
       "    </tr>\n",
       "    <tr>\n",
       "      <th>181533</th>\n",
       "      <td>Lost</td>\n",
       "    </tr>\n",
       "    <tr>\n",
       "      <th>181535</th>\n",
       "      <td>Lost</td>\n",
       "    </tr>\n",
       "  </tbody>\n",
       "</table>\n",
       "<p>150439 rows × 1 columns</p>\n",
       "</div>"
      ],
      "text/plain": [
       "       status\n",
       "0         Won\n",
       "1         Won\n",
       "2         Won\n",
       "3         Won\n",
       "4         Won\n",
       "...       ...\n",
       "181527   Lost\n",
       "181529   Lost\n",
       "181531   Lost\n",
       "181533   Lost\n",
       "181535   Lost\n",
       "\n",
       "[150439 rows x 1 columns]"
      ]
     },
     "execution_count": 40,
     "metadata": {},
     "output_type": "execute_result"
    }
   ],
   "source": [
    "import numpy as np\n",
    "import matplotlib.pyplot as plt\n",
    "x=df7.iloc[:,[0,2,3,6,7,8,9,10,11]]\n",
    "y=df7.iloc[:,[4]]\n",
    "y"
   ]
  },
  {
   "cell_type": "code",
   "execution_count": 42,
   "metadata": {},
   "outputs": [
    {
     "data": {
      "text/plain": [
       "(           item_date      customer    country  application  thickness  \\\n",
       " 0       2.020090e+07  3.020519e+07  84.000000    10.000000   6.000000   \n",
       " 1       2.020083e+07  3.034202e+07  78.000000    59.000000   6.000000   \n",
       " 2       2.020112e+07  3.023206e+07  28.000000    41.000000   0.550000   \n",
       " 3       2.020121e+07  3.022340e+07  78.000000    10.000000   2.000000   \n",
       " 4       2.021022e+07  3.039388e+07  25.000000    29.000000   8.000000   \n",
       " ...              ...           ...        ...          ...        ...   \n",
       " 162431  2.020072e+07  3.019807e+07  26.000000    15.000000   2.000000   \n",
       " 162432  2.021033e+07  3.040220e+07  27.000000    59.000000   1.614703   \n",
       " 162433  2.020084e+07  3.030023e+07  26.186687    82.384840   0.443068   \n",
       " 162434  2.021016e+07  3.019875e+07  27.000000    27.339226   7.018374   \n",
       " 162435  2.020122e+07  3.016410e+07  27.000000    10.000000   0.500000   \n",
       " \n",
       "               width  product_ref  delivery date  selling_price  \n",
       " 0       1500.000000       640405   2.020100e+07     651.000000  \n",
       " 1       1610.000000       640665   2.020090e+07     489.000000  \n",
       " 2       1250.000000       611993   2.021020e+07     790.000000  \n",
       " 3       1250.000000    164141591   2.021010e+07     706.000000  \n",
       " 4       1266.000000   1670798778   2.021070e+07     843.000000  \n",
       " ...             ...          ...            ...            ...  \n",
       " 162431  1000.901092       628117   2.020100e+07     632.996396  \n",
       " 162432  1248.456160   1670798778   2.021080e+07    1014.448629  \n",
       " 162433   749.577685       611993   2.020102e+07    1133.594457  \n",
       " 162434  1490.799594       640665   2.021050e+07     813.722359  \n",
       " 162435  1250.000000       611993   2.021040e+07    1025.816138  \n",
       " \n",
       " [162436 rows x 9 columns],\n",
       "        status\n",
       " 0         Won\n",
       " 1         Won\n",
       " 2        Lost\n",
       " 3         Won\n",
       " 4         Won\n",
       " ...       ...\n",
       " 162431   Lost\n",
       " 162432   Lost\n",
       " 162433   Lost\n",
       " 162434   Lost\n",
       " 162435   Lost\n",
       " \n",
       " [162436 rows x 1 columns])"
      ]
     },
     "execution_count": 42,
     "metadata": {},
     "output_type": "execute_result"
    }
   ],
   "source": [
    "from imblearn.over_sampling import SMOTE\n",
    "sm=SMOTE(random_state=0,k_neighbors=7)\n",
    "sm.fit_resample(x_train,y_train)"
   ]
  },
  {
   "cell_type": "markdown",
   "metadata": {},
   "source": []
  },
  {
   "cell_type": "code",
   "execution_count": 41,
   "metadata": {},
   "outputs": [],
   "source": [
    "from sklearn.model_selection import train_test_split\n",
    "x_train, x_test, y_train, y_test = train_test_split(x, y, test_size=0.3, random_state=1)"
   ]
  },
  {
   "cell_type": "code",
   "execution_count": 43,
   "metadata": {},
   "outputs": [
    {
     "data": {
      "text/html": [
       "<style>#sk-container-id-1 {color: black;}#sk-container-id-1 pre{padding: 0;}#sk-container-id-1 div.sk-toggleable {background-color: white;}#sk-container-id-1 label.sk-toggleable__label {cursor: pointer;display: block;width: 100%;margin-bottom: 0;padding: 0.3em;box-sizing: border-box;text-align: center;}#sk-container-id-1 label.sk-toggleable__label-arrow:before {content: \"▸\";float: left;margin-right: 0.25em;color: #696969;}#sk-container-id-1 label.sk-toggleable__label-arrow:hover:before {color: black;}#sk-container-id-1 div.sk-estimator:hover label.sk-toggleable__label-arrow:before {color: black;}#sk-container-id-1 div.sk-toggleable__content {max-height: 0;max-width: 0;overflow: hidden;text-align: left;background-color: #f0f8ff;}#sk-container-id-1 div.sk-toggleable__content pre {margin: 0.2em;color: black;border-radius: 0.25em;background-color: #f0f8ff;}#sk-container-id-1 input.sk-toggleable__control:checked~div.sk-toggleable__content {max-height: 200px;max-width: 100%;overflow: auto;}#sk-container-id-1 input.sk-toggleable__control:checked~label.sk-toggleable__label-arrow:before {content: \"▾\";}#sk-container-id-1 div.sk-estimator input.sk-toggleable__control:checked~label.sk-toggleable__label {background-color: #d4ebff;}#sk-container-id-1 div.sk-label input.sk-toggleable__control:checked~label.sk-toggleable__label {background-color: #d4ebff;}#sk-container-id-1 input.sk-hidden--visually {border: 0;clip: rect(1px 1px 1px 1px);clip: rect(1px, 1px, 1px, 1px);height: 1px;margin: -1px;overflow: hidden;padding: 0;position: absolute;width: 1px;}#sk-container-id-1 div.sk-estimator {font-family: monospace;background-color: #f0f8ff;border: 1px dotted black;border-radius: 0.25em;box-sizing: border-box;margin-bottom: 0.5em;}#sk-container-id-1 div.sk-estimator:hover {background-color: #d4ebff;}#sk-container-id-1 div.sk-parallel-item::after {content: \"\";width: 100%;border-bottom: 1px solid gray;flex-grow: 1;}#sk-container-id-1 div.sk-label:hover label.sk-toggleable__label {background-color: #d4ebff;}#sk-container-id-1 div.sk-serial::before {content: \"\";position: absolute;border-left: 1px solid gray;box-sizing: border-box;top: 0;bottom: 0;left: 50%;z-index: 0;}#sk-container-id-1 div.sk-serial {display: flex;flex-direction: column;align-items: center;background-color: white;padding-right: 0.2em;padding-left: 0.2em;position: relative;}#sk-container-id-1 div.sk-item {position: relative;z-index: 1;}#sk-container-id-1 div.sk-parallel {display: flex;align-items: stretch;justify-content: center;background-color: white;position: relative;}#sk-container-id-1 div.sk-item::before, #sk-container-id-1 div.sk-parallel-item::before {content: \"\";position: absolute;border-left: 1px solid gray;box-sizing: border-box;top: 0;bottom: 0;left: 50%;z-index: -1;}#sk-container-id-1 div.sk-parallel-item {display: flex;flex-direction: column;z-index: 1;position: relative;background-color: white;}#sk-container-id-1 div.sk-parallel-item:first-child::after {align-self: flex-end;width: 50%;}#sk-container-id-1 div.sk-parallel-item:last-child::after {align-self: flex-start;width: 50%;}#sk-container-id-1 div.sk-parallel-item:only-child::after {width: 0;}#sk-container-id-1 div.sk-dashed-wrapped {border: 1px dashed gray;margin: 0 0.4em 0.5em 0.4em;box-sizing: border-box;padding-bottom: 0.4em;background-color: white;}#sk-container-id-1 div.sk-label label {font-family: monospace;font-weight: bold;display: inline-block;line-height: 1.2em;}#sk-container-id-1 div.sk-label-container {text-align: center;}#sk-container-id-1 div.sk-container {/* jupyter's `normalize.less` sets `[hidden] { display: none; }` but bootstrap.min.css set `[hidden] { display: none !important; }` so we also need the `!important` here to be able to override the default hidden behavior on the sphinx rendered scikit-learn.org. See: https://github.com/scikit-learn/scikit-learn/issues/21755 */display: inline-block !important;position: relative;}#sk-container-id-1 div.sk-text-repr-fallback {display: none;}</style><div id=\"sk-container-id-1\" class=\"sk-top-container\"><div class=\"sk-text-repr-fallback\"><pre>LinearRegression()</pre><b>In a Jupyter environment, please rerun this cell to show the HTML representation or trust the notebook. <br />On GitHub, the HTML representation is unable to render, please try loading this page with nbviewer.org.</b></div><div class=\"sk-container\" hidden><div class=\"sk-item\"><div class=\"sk-estimator sk-toggleable\"><input class=\"sk-toggleable__control sk-hidden--visually\" id=\"sk-estimator-id-1\" type=\"checkbox\" checked><label for=\"sk-estimator-id-1\" class=\"sk-toggleable__label sk-toggleable__label-arrow\">LinearRegression</label><div class=\"sk-toggleable__content\"><pre>LinearRegression()</pre></div></div></div></div></div>"
      ],
      "text/plain": [
       "LinearRegression()"
      ]
     },
     "execution_count": 43,
     "metadata": {},
     "output_type": "execute_result"
    }
   ],
   "source": [
    "from sklearn.linear_model import LinearRegression\n",
    "classifier=LinearRegression()\n",
    "classifier.fit(x_train,y_train)"
   ]
  },
  {
   "cell_type": "code",
   "execution_count": 44,
   "metadata": {},
   "outputs": [],
   "source": [
    "y_pred=classifier.predict(x_test)"
   ]
  },
  {
   "cell_type": "code",
   "execution_count": 45,
   "metadata": {},
   "outputs": [
    {
     "data": {
      "text/plain": [
       "array([[834.42918543],\n",
       "       [787.2933856 ],\n",
       "       [733.07270005],\n",
       "       ...,\n",
       "       [874.21763892],\n",
       "       [729.65348897],\n",
       "       [934.37771285]])"
      ]
     },
     "execution_count": 45,
     "metadata": {},
     "output_type": "execute_result"
    }
   ],
   "source": [
    "y_pred"
   ]
  },
  {
   "cell_type": "code",
   "execution_count": 46,
   "metadata": {},
   "outputs": [
    {
     "data": {
      "text/html": [
       "<div>\n",
       "<style scoped>\n",
       "    .dataframe tbody tr th:only-of-type {\n",
       "        vertical-align: middle;\n",
       "    }\n",
       "\n",
       "    .dataframe tbody tr th {\n",
       "        vertical-align: top;\n",
       "    }\n",
       "\n",
       "    .dataframe thead th {\n",
       "        text-align: right;\n",
       "    }\n",
       "</style>\n",
       "<table border=\"1\" class=\"dataframe\">\n",
       "  <thead>\n",
       "    <tr style=\"text-align: right;\">\n",
       "      <th></th>\n",
       "      <th>selling_price</th>\n",
       "    </tr>\n",
       "  </thead>\n",
       "  <tbody>\n",
       "    <tr>\n",
       "      <th>95976</th>\n",
       "      <td>987.00</td>\n",
       "    </tr>\n",
       "    <tr>\n",
       "      <th>88937</th>\n",
       "      <td>767.00</td>\n",
       "    </tr>\n",
       "    <tr>\n",
       "      <th>90332</th>\n",
       "      <td>629.00</td>\n",
       "    </tr>\n",
       "    <tr>\n",
       "      <th>68387</th>\n",
       "      <td>682.00</td>\n",
       "    </tr>\n",
       "    <tr>\n",
       "      <th>123446</th>\n",
       "      <td>693.55</td>\n",
       "    </tr>\n",
       "    <tr>\n",
       "      <th>...</th>\n",
       "      <td>...</td>\n",
       "    </tr>\n",
       "    <tr>\n",
       "      <th>124367</th>\n",
       "      <td>882.00</td>\n",
       "    </tr>\n",
       "    <tr>\n",
       "      <th>11107</th>\n",
       "      <td>874.00</td>\n",
       "    </tr>\n",
       "    <tr>\n",
       "      <th>41708</th>\n",
       "      <td>905.00</td>\n",
       "    </tr>\n",
       "    <tr>\n",
       "      <th>142611</th>\n",
       "      <td>811.00</td>\n",
       "    </tr>\n",
       "    <tr>\n",
       "      <th>25548</th>\n",
       "      <td>1012.00</td>\n",
       "    </tr>\n",
       "  </tbody>\n",
       "</table>\n",
       "<p>54491 rows × 1 columns</p>\n",
       "</div>"
      ],
      "text/plain": [
       "        selling_price\n",
       "95976          987.00\n",
       "88937          767.00\n",
       "90332          629.00\n",
       "68387          682.00\n",
       "123446         693.55\n",
       "...               ...\n",
       "124367         882.00\n",
       "11107          874.00\n",
       "41708          905.00\n",
       "142611         811.00\n",
       "25548         1012.00\n",
       "\n",
       "[54491 rows x 1 columns]"
      ]
     },
     "execution_count": 46,
     "metadata": {},
     "output_type": "execute_result"
    }
   ],
   "source": [
    "y_test"
   ]
  },
  {
   "cell_type": "code",
   "execution_count": 47,
   "metadata": {},
   "outputs": [],
   "source": [
    "cutoff = 0.7                              # decide on a cutoff limit\n",
    "y_pred_classes = np.zeros_like(y_pred)    # initialise a matrix full with zeros\n",
    "y_pred_classes[y_pred > cutoff] = 1"
   ]
  },
  {
   "cell_type": "code",
   "execution_count": 48,
   "metadata": {},
   "outputs": [],
   "source": [
    "y_test_classes = np.zeros_like(y_pred)\n",
    "y_test_classes[y_test > cutoff] = 1"
   ]
  },
  {
   "cell_type": "code",
   "execution_count": 49,
   "metadata": {},
   "outputs": [],
   "source": [
    "from sklearn.metrics import confusion_matrix\n",
    "cm=confusion_matrix(y_pred_classes,y_test_classes)"
   ]
  },
  {
   "cell_type": "code",
   "execution_count": 50,
   "metadata": {},
   "outputs": [
    {
     "data": {
      "text/plain": [
       "array([[    0,     1],\n",
       "       [    1, 54489]], dtype=int64)"
      ]
     },
     "execution_count": 50,
     "metadata": {},
     "output_type": "execute_result"
    }
   ],
   "source": [
    "cm"
   ]
  },
  {
   "cell_type": "code",
   "execution_count": 51,
   "metadata": {},
   "outputs": [
    {
     "name": "stdout",
     "output_type": "stream",
     "text": [
      "0.9999632966911967\n"
     ]
    }
   ],
   "source": [
    "from sklearn.metrics import accuracy_score\n",
    "print(accuracy_score(y_pred_classes,y_test_classes))"
   ]
  },
  {
   "cell_type": "code",
   "execution_count": 52,
   "metadata": {},
   "outputs": [
    {
     "name": "stdout",
     "output_type": "stream",
     "text": [
      "0.999981648008809\n"
     ]
    }
   ],
   "source": [
    "from sklearn.metrics import precision_score\n",
    "print(precision_score(y_pred_classes,y_test_classes))"
   ]
  },
  {
   "cell_type": "markdown",
   "metadata": {},
   "source": [
    "#KNN Classifier"
   ]
  },
  {
   "cell_type": "code",
   "execution_count": 60,
   "metadata": {},
   "outputs": [
    {
     "name": "stdout",
     "output_type": "stream",
     "text": [
      "<class 'pandas.core.frame.DataFrame'>\n",
      "Index: 181638 entries, 0 to 181672\n",
      "Data columns (total 12 columns):\n",
      " #   Column         Non-Null Count   Dtype  \n",
      "---  ------         --------------   -----  \n",
      " 0   item_date      181638 non-null  float64\n",
      " 1   quantity tons  181638 non-null  object \n",
      " 2   customer       181638 non-null  float64\n",
      " 3   country        181638 non-null  float64\n",
      " 4   status         181638 non-null  object \n",
      " 5   item type      181638 non-null  object \n",
      " 6   application    181638 non-null  float64\n",
      " 7   thickness      181638 non-null  float64\n",
      " 8   width          181638 non-null  float64\n",
      " 9   product_ref    181638 non-null  int64  \n",
      " 10  delivery date  181638 non-null  float64\n",
      " 11  selling_price  181638 non-null  float64\n",
      "dtypes: float64(8), int64(1), object(3)\n",
      "memory usage: 22.0+ MB\n"
     ]
    }
   ],
   "source": [
    "df2.info()"
   ]
  },
  {
   "cell_type": "code",
   "execution_count": 92,
   "metadata": {},
   "outputs": [
    {
     "data": {
      "text/html": [
       "<div>\n",
       "<style scoped>\n",
       "    .dataframe tbody tr th:only-of-type {\n",
       "        vertical-align: middle;\n",
       "    }\n",
       "\n",
       "    .dataframe tbody tr th {\n",
       "        vertical-align: top;\n",
       "    }\n",
       "\n",
       "    .dataframe thead th {\n",
       "        text-align: right;\n",
       "    }\n",
       "</style>\n",
       "<table border=\"1\" class=\"dataframe\">\n",
       "  <thead>\n",
       "    <tr style=\"text-align: right;\">\n",
       "      <th></th>\n",
       "      <th>status</th>\n",
       "    </tr>\n",
       "  </thead>\n",
       "  <tbody>\n",
       "    <tr>\n",
       "      <th>0</th>\n",
       "      <td>Won</td>\n",
       "    </tr>\n",
       "    <tr>\n",
       "      <th>1</th>\n",
       "      <td>Won</td>\n",
       "    </tr>\n",
       "    <tr>\n",
       "      <th>2</th>\n",
       "      <td>Won</td>\n",
       "    </tr>\n",
       "    <tr>\n",
       "      <th>3</th>\n",
       "      <td>Won</td>\n",
       "    </tr>\n",
       "    <tr>\n",
       "      <th>4</th>\n",
       "      <td>Won</td>\n",
       "    </tr>\n",
       "    <tr>\n",
       "      <th>...</th>\n",
       "      <td>...</td>\n",
       "    </tr>\n",
       "    <tr>\n",
       "      <th>181668</th>\n",
       "      <td>Won</td>\n",
       "    </tr>\n",
       "    <tr>\n",
       "      <th>181669</th>\n",
       "      <td>Won</td>\n",
       "    </tr>\n",
       "    <tr>\n",
       "      <th>181670</th>\n",
       "      <td>Won</td>\n",
       "    </tr>\n",
       "    <tr>\n",
       "      <th>181671</th>\n",
       "      <td>Won</td>\n",
       "    </tr>\n",
       "    <tr>\n",
       "      <th>181672</th>\n",
       "      <td>Won</td>\n",
       "    </tr>\n",
       "  </tbody>\n",
       "</table>\n",
       "<p>181635 rows × 1 columns</p>\n",
       "</div>"
      ],
      "text/plain": [
       "       status\n",
       "0         Won\n",
       "1         Won\n",
       "2         Won\n",
       "3         Won\n",
       "4         Won\n",
       "...       ...\n",
       "181668    Won\n",
       "181669    Won\n",
       "181670    Won\n",
       "181671    Won\n",
       "181672    Won\n",
       "\n",
       "[181635 rows x 1 columns]"
      ]
     },
     "execution_count": 92,
     "metadata": {},
     "output_type": "execute_result"
    }
   ],
   "source": [
    "import numpy as np\n",
    "import matplotlib.pyplot as plt\n",
    "x=df4.iloc[:,[0,2,6,7,8,9,10,11]]\n",
    "y=df4.iloc[:,[4]]\n",
    "y"
   ]
  },
  {
   "cell_type": "code",
   "execution_count": 93,
   "metadata": {},
   "outputs": [],
   "source": [
    "from sklearn.model_selection import train_test_split\n",
    "x_train, x_test, y_train, y_test = train_test_split(x, y, test_size=0.3, random_state=1)"
   ]
  },
  {
   "cell_type": "code",
   "execution_count": 27,
   "metadata": {},
   "outputs": [
    {
     "name": "stderr",
     "output_type": "stream",
     "text": [
      "c:\\Users\\shamr\\AppData\\Local\\Programs\\Python\\Python312\\Lib\\site-packages\\sklearn\\neighbors\\_classification.py:233: DataConversionWarning: A column-vector y was passed when a 1d array was expected. Please change the shape of y to (n_samples,), for example using ravel().\n",
      "  return self._fit(X, y)\n"
     ]
    },
    {
     "data": {
      "text/html": [
       "<style>#sk-container-id-2 {color: black;}#sk-container-id-2 pre{padding: 0;}#sk-container-id-2 div.sk-toggleable {background-color: white;}#sk-container-id-2 label.sk-toggleable__label {cursor: pointer;display: block;width: 100%;margin-bottom: 0;padding: 0.3em;box-sizing: border-box;text-align: center;}#sk-container-id-2 label.sk-toggleable__label-arrow:before {content: \"▸\";float: left;margin-right: 0.25em;color: #696969;}#sk-container-id-2 label.sk-toggleable__label-arrow:hover:before {color: black;}#sk-container-id-2 div.sk-estimator:hover label.sk-toggleable__label-arrow:before {color: black;}#sk-container-id-2 div.sk-toggleable__content {max-height: 0;max-width: 0;overflow: hidden;text-align: left;background-color: #f0f8ff;}#sk-container-id-2 div.sk-toggleable__content pre {margin: 0.2em;color: black;border-radius: 0.25em;background-color: #f0f8ff;}#sk-container-id-2 input.sk-toggleable__control:checked~div.sk-toggleable__content {max-height: 200px;max-width: 100%;overflow: auto;}#sk-container-id-2 input.sk-toggleable__control:checked~label.sk-toggleable__label-arrow:before {content: \"▾\";}#sk-container-id-2 div.sk-estimator input.sk-toggleable__control:checked~label.sk-toggleable__label {background-color: #d4ebff;}#sk-container-id-2 div.sk-label input.sk-toggleable__control:checked~label.sk-toggleable__label {background-color: #d4ebff;}#sk-container-id-2 input.sk-hidden--visually {border: 0;clip: rect(1px 1px 1px 1px);clip: rect(1px, 1px, 1px, 1px);height: 1px;margin: -1px;overflow: hidden;padding: 0;position: absolute;width: 1px;}#sk-container-id-2 div.sk-estimator {font-family: monospace;background-color: #f0f8ff;border: 1px dotted black;border-radius: 0.25em;box-sizing: border-box;margin-bottom: 0.5em;}#sk-container-id-2 div.sk-estimator:hover {background-color: #d4ebff;}#sk-container-id-2 div.sk-parallel-item::after {content: \"\";width: 100%;border-bottom: 1px solid gray;flex-grow: 1;}#sk-container-id-2 div.sk-label:hover label.sk-toggleable__label {background-color: #d4ebff;}#sk-container-id-2 div.sk-serial::before {content: \"\";position: absolute;border-left: 1px solid gray;box-sizing: border-box;top: 0;bottom: 0;left: 50%;z-index: 0;}#sk-container-id-2 div.sk-serial {display: flex;flex-direction: column;align-items: center;background-color: white;padding-right: 0.2em;padding-left: 0.2em;position: relative;}#sk-container-id-2 div.sk-item {position: relative;z-index: 1;}#sk-container-id-2 div.sk-parallel {display: flex;align-items: stretch;justify-content: center;background-color: white;position: relative;}#sk-container-id-2 div.sk-item::before, #sk-container-id-2 div.sk-parallel-item::before {content: \"\";position: absolute;border-left: 1px solid gray;box-sizing: border-box;top: 0;bottom: 0;left: 50%;z-index: -1;}#sk-container-id-2 div.sk-parallel-item {display: flex;flex-direction: column;z-index: 1;position: relative;background-color: white;}#sk-container-id-2 div.sk-parallel-item:first-child::after {align-self: flex-end;width: 50%;}#sk-container-id-2 div.sk-parallel-item:last-child::after {align-self: flex-start;width: 50%;}#sk-container-id-2 div.sk-parallel-item:only-child::after {width: 0;}#sk-container-id-2 div.sk-dashed-wrapped {border: 1px dashed gray;margin: 0 0.4em 0.5em 0.4em;box-sizing: border-box;padding-bottom: 0.4em;background-color: white;}#sk-container-id-2 div.sk-label label {font-family: monospace;font-weight: bold;display: inline-block;line-height: 1.2em;}#sk-container-id-2 div.sk-label-container {text-align: center;}#sk-container-id-2 div.sk-container {/* jupyter's `normalize.less` sets `[hidden] { display: none; }` but bootstrap.min.css set `[hidden] { display: none !important; }` so we also need the `!important` here to be able to override the default hidden behavior on the sphinx rendered scikit-learn.org. See: https://github.com/scikit-learn/scikit-learn/issues/21755 */display: inline-block !important;position: relative;}#sk-container-id-2 div.sk-text-repr-fallback {display: none;}</style><div id=\"sk-container-id-2\" class=\"sk-top-container\"><div class=\"sk-text-repr-fallback\"><pre>KNeighborsClassifier()</pre><b>In a Jupyter environment, please rerun this cell to show the HTML representation or trust the notebook. <br />On GitHub, the HTML representation is unable to render, please try loading this page with nbviewer.org.</b></div><div class=\"sk-container\" hidden><div class=\"sk-item\"><div class=\"sk-estimator sk-toggleable\"><input class=\"sk-toggleable__control sk-hidden--visually\" id=\"sk-estimator-id-2\" type=\"checkbox\" checked><label for=\"sk-estimator-id-2\" class=\"sk-toggleable__label sk-toggleable__label-arrow\">KNeighborsClassifier</label><div class=\"sk-toggleable__content\"><pre>KNeighborsClassifier()</pre></div></div></div></div></div>"
      ],
      "text/plain": [
       "KNeighborsClassifier()"
      ]
     },
     "execution_count": 27,
     "metadata": {},
     "output_type": "execute_result"
    }
   ],
   "source": [
    "from sklearn.neighbors import KNeighborsClassifier\n",
    "classifier=KNeighborsClassifier(n_neighbors=5)\n",
    "classifier.fit(x_train,y_train)"
   ]
  },
  {
   "cell_type": "code",
   "execution_count": 28,
   "metadata": {},
   "outputs": [],
   "source": [
    "y_pred=classifier.predict(x_test)"
   ]
  },
  {
   "cell_type": "code",
   "execution_count": 29,
   "metadata": {},
   "outputs": [
    {
     "data": {
      "text/plain": [
       "array(['Lost', 'Won', 'Won', ..., 'Lost', 'Lost', 'Won'], dtype=object)"
      ]
     },
     "execution_count": 29,
     "metadata": {},
     "output_type": "execute_result"
    }
   ],
   "source": [
    "y_pred"
   ]
  },
  {
   "cell_type": "code",
   "execution_count": 30,
   "metadata": {},
   "outputs": [
    {
     "data": {
      "text/plain": [
       "array([[  866,     0,     1,     0,     0,     1,     0,     3],\n",
       "       [   17,  8203,   488,     0,     5,   134,    75,  1469],\n",
       "       [    6,   393,  4043,     0,     0,    74,    66,  1081],\n",
       "       [    0,     0,     0,     1,     0,     0,     0,     0],\n",
       "       [    0,     1,     0,     0,     5,     0,     0,     1],\n",
       "       [    0,    90,    44,     0,     0,   551,     4,   277],\n",
       "       [    0,    55,    25,     0,     0,     3,   941,   140],\n",
       "       [   67,  1579,  1142,     0,     7,   523,   174, 31936]],\n",
       "      dtype=int64)"
      ]
     },
     "execution_count": 30,
     "metadata": {},
     "output_type": "execute_result"
    }
   ],
   "source": [
    "from sklearn.metrics import confusion_matrix\n",
    "cm=confusion_matrix(y_pred,y_test)\n",
    "cm"
   ]
  },
  {
   "cell_type": "code",
   "execution_count": 31,
   "metadata": {},
   "outputs": [
    {
     "name": "stdout",
     "output_type": "stream",
     "text": [
      "0.854196105778936\n"
     ]
    }
   ],
   "source": [
    "from sklearn.metrics import accuracy_score\n",
    "print(accuracy_score(y_pred,y_test))"
   ]
  },
  {
   "cell_type": "code",
   "execution_count": null,
   "metadata": {},
   "outputs": [],
   "source": []
  },
  {
   "cell_type": "code",
   "execution_count": 21,
   "metadata": {},
   "outputs": [
    {
     "data": {
      "text/plain": [
       "status\n",
       "Won                116007\n",
       "Lost                34432\n",
       "Not lost for AM     19567\n",
       "Revised              4276\n",
       "To be approved       4168\n",
       "Draft                3121\n",
       "Offered                53\n",
       "Offerable              10\n",
       "Wonderful               1\n",
       "Name: count, dtype: int64"
      ]
     },
     "execution_count": 21,
     "metadata": {},
     "output_type": "execute_result"
    }
   ],
   "source": [
    "df4.status.value_counts()"
   ]
  },
  {
   "cell_type": "code",
   "execution_count": 27,
   "metadata": {},
   "outputs": [
    {
     "data": {
      "text/plain": [
       "status\n",
       "Won                34432\n",
       "Lost               34432\n",
       "Not lost for AM    34432\n",
       "Revised            34432\n",
       "To be approved     34432\n",
       "Draft              34432\n",
       "Offered            34432\n",
       "Offerable          34432\n",
       "Wonderful          34432\n",
       "Name: count, dtype: int64"
      ]
     },
     "execution_count": 27,
     "metadata": {},
     "output_type": "execute_result"
    }
   ],
   "source": [
    "import pandas as pd\n",
    "won,lost,not_lost_for_am,revised,to_be_approved,draft,offered,offerable,wonderful=df4.status.value_counts()\n",
    "df_won=df4[df4['status']=='Won']\n",
    "df_lost=df4[df4['status']=='Lost']\n",
    "df_not_lost_for_am=df4[df4['status']=='Not lost for AM']\n",
    "df_revised=df4[df4['status']=='Revised']\n",
    "df_to_be_approved=df4[df4['status']=='To be approved']\n",
    "df_draft=df4[df4['status']=='Draft']\n",
    "df_offered=df4[df4['status']=='Offered']\n",
    "df_offerable=df4[df4['status']=='Offerable']\n",
    "df_wonderful=df4[df4['status']=='Wonderful']\n",
    "\n",
    "df_won=df_won.sample(lost)\n",
    "#df_lost=df_lost.sample(lost)\n",
    "df_not_lost_for_am=df_not_lost_for_am.sample(lost,replace=True)\n",
    "df_revised=df_revised.sample(lost,replace=True)\n",
    "df_to_be_approved=df_to_be_approved.sample(lost,replace=True)\n",
    "df_draft=df_draft.sample(lost,replace=True)\n",
    "df_offered=df_offered.sample(lost,replace=True)\n",
    "df_offerable=df_offerable.sample(lost,replace=True)\n",
    "df_wonderful=df_wonderful.sample(lost,replace=True)\n",
    "\n",
    "\n",
    "new_df=pd.concat([df_won,df_lost,df_not_lost_for_am,df_revised,df_to_be_approved,df_draft,df_offered,df_offerable,df_wonderful],axis=0)\n",
    "new_df.status.value_counts()"
   ]
  }
 ],
 "metadata": {
  "kernelspec": {
   "display_name": "Python 3",
   "language": "python",
   "name": "python3"
  },
  "language_info": {
   "codemirror_mode": {
    "name": "ipython",
    "version": 3
   },
   "file_extension": ".py",
   "mimetype": "text/x-python",
   "name": "python",
   "nbconvert_exporter": "python",
   "pygments_lexer": "ipython3",
   "version": "3.12.0"
  }
 },
 "nbformat": 4,
 "nbformat_minor": 2
}
